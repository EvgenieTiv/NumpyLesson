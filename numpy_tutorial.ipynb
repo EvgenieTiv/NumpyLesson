{
 "cells": [
  {
   "cell_type": "markdown",
   "metadata": {},
   "source": [
    "# Guide to NumPy for Data Science & AI \n",
    "\n",
    "**Course Module: Data Analysis with Python**\n",
    "\n",
    "NumPy is the foundational library for numerical computing in Python. This notebook is designed to be a comprehensive reference for students transitioning from Python basics to the world of Data Science and Machine Learning.\n",
    "\n",
    "### What is NumPy?\n",
    "NumPy, or Numerical Python, is the cornerstone of the Python scientific computing stack. It provides a high-performance, multidimensional array object, and tools for working with these arrays. Its integration with C and Fortran libraries makes it incredibly fast for mathematical operations. Almost every data science library, including Pandas, Scikit-learn, and TensorFlow, is built on top of NumPy.\n",
    "\n",
    "### Why is NumPy Essential?\n",
    "1.  **Performance:** NumPy arrays are implemented in C and stored in a contiguous block of memory. This allows for vectorized operations (called ufuncs) that are orders of magnitude faster than performing equivalent operations with Python lists and loops.\n",
    "2.  **Memory Efficiency:** Being stored contiguously, NumPy arrays are also more memory-efficient than Python lists, which are arrays of pointers to Python objects.\n",
    "3.  **Functionality & Convenience:** NumPy provides a massive library of high-level mathematical functions, linear algebra routines, random number generators, and more. The syntax is concise and powerful, allowing you to express complex mathematical ideas in a few lines of code."
   ]
  },
  {
   "cell_type": "markdown",
   "metadata": {},
   "source": [
    "---\n",
    "## 1. Getting Started: Installation and Importing"
   ]
  },
  {
   "cell_type": "markdown",
   "metadata": {},
   "source": [
    "Before we begin, ensure NumPy is installed. The standard alias for importing is `np`."
   ]
  },
  {
   "cell_type": "code",
   "execution_count": 2,
   "metadata": {},
   "outputs": [],
   "source": [
    "# Standard import convention for NumPy\n",
    "import numpy as np"
   ]
  },
  {
   "cell_type": "code",
   "execution_count": 2,
   "metadata": {},
   "outputs": [
    {
     "name": "stdout",
     "output_type": "stream",
     "text": [
      "NumPy Version: 2.2.5\n"
     ]
    }
   ],
   "source": [
    "# Check the installed version to ensure compatibility\n",
    "print(f\"NumPy Version: {np.__version__}\")"
   ]
  },
  {
   "cell_type": "markdown",
   "metadata": {},
   "source": [
    "---\n",
    "## 2. The NumPy `ndarray`: Creation and Core Attributes"
   ]
  },
  {
   "cell_type": "markdown",
   "metadata": {},
   "source": [
    "### 2.1. Simple Array Creation\n",
    "The most basic way to create an array is from a Python list or tuple using `np.array()`."
   ]
  },
  {
   "cell_type": "code",
   "execution_count": 3,
   "metadata": {},
   "outputs": [
    {
     "name": "stdout",
     "output_type": "stream",
     "text": [
      "1D Array from list:\n",
      "[1 2 3 4 5]\n"
     ]
    }
   ],
   "source": [
    "# Create a 1-dimensional (1D) array from a list\n",
    "list_1d = [1, 2, 3, 4, 5]\n",
    "arr_1d = np.array(list_1d)\n",
    "print(\"1D Array from list:\")\n",
    "print(arr_1d)\n"
   ]
  },
  {
   "cell_type": "code",
   "execution_count": 4,
   "metadata": {},
   "outputs": [
    {
     "name": "stdout",
     "output_type": "stream",
     "text": [
      "Object type: <class 'numpy.ndarray'>\n"
     ]
    }
   ],
   "source": [
    "# CHECKING THE TYPE of the object itself\n",
    "print(\"Object type:\", type(arr_1d))\n"
   ]
  },
  {
   "cell_type": "code",
   "execution_count": 26,
   "metadata": {},
   "outputs": [
    {
     "name": "stdout",
     "output_type": "stream",
     "text": [
      "Type: int64\n",
      "Shape: (2, 3)\n",
      "\n",
      "2D Array from list of lists:\n",
      "[[1 2 3]\n",
      " [4 5 6]]\n"
     ]
    }
   ],
   "source": [
    "# Create a 2-dimensional (2D) array from a list of lists\n",
    "list_2d = [[1, 2, 3], [4, 5, 6]]\n",
    "arr_2d = np.array(list_2d)\n",
    "print(f'Type: {arr_2d.dtype}')\n",
    "print(f'Shape: {arr_2d.shape}')\n",
    "print(\"\\n2D Array from list of lists:\")\n",
    "print(arr_2d)"
   ]
  },
  {
   "cell_type": "code",
   "execution_count": 6,
   "metadata": {},
   "outputs": [
    {
     "name": "stdout",
     "output_type": "stream",
     "text": [
      "int64\n"
     ]
    }
   ],
   "source": [
    "print(arr_2d.dtype)"
   ]
  },
  {
   "cell_type": "code",
   "execution_count": 27,
   "metadata": {},
   "outputs": [
    {
     "name": "stdout",
     "output_type": "stream",
     "text": [
      "\n",
      "Error creating 2D array from uneven lists:\n",
      "setting an array element with a sequence. The requested array has an inhomogeneous shape after 1 dimensions. The detected shape was (2,) + inhomogeneous part.\n"
     ]
    }
   ],
   "source": [
    "# What would happen here?\n",
    "\n",
    "list_2d = [[1, 2, 3], [4, 5, 6, 7]]\n",
    "try:\n",
    "    arr_2d = np.array(list_2d)\n",
    "    print(\"\\n2D Array from list of lists:\")\n",
    "    print(arr_2d)\n",
    "except ValueError as e:\n",
    "    print(\"\\nError creating 2D array from uneven lists:\")\n",
    "    print(e)"
   ]
  },
  {
   "cell_type": "code",
   "execution_count": 28,
   "metadata": {},
   "outputs": [
    {
     "name": "stdout",
     "output_type": "stream",
     "text": [
      "\n",
      "2D Array from list of lists:\n",
      "[['1' '2' '3']\n",
      " ['4' '5' 'a']]\n"
     ]
    }
   ],
   "source": [
    "# And here?\n",
    "\n",
    "list_2d = [[1, 2, 3], [4, 5, 'a']]\n",
    "arr_2d = np.array(list_2d)\n",
    "print(\"\\n2D Array from list of lists:\")\n",
    "print(arr_2d)"
   ]
  },
  {
   "cell_type": "code",
   "execution_count": 23,
   "metadata": {},
   "outputs": [
    {
     "data": {
      "text/plain": [
       "dtype('<U21')"
      ]
     },
     "execution_count": 23,
     "metadata": {},
     "output_type": "execute_result"
    }
   ],
   "source": [
    "arr_2d.dtype"
   ]
  },
  {
   "cell_type": "markdown",
   "metadata": {},
   "source": [
    "#### Practice Exercises (2.1)\n",
    "\n",
    "**Exercise 1:** Create a 1D NumPy array containing the floating point numbers `[1.5, 2.5, 3.5, 4.5]`.\n",
    "**Exercise 2:** Create a 3x3 NumPy array from a Python list of lists."
   ]
  },
  {
   "cell_type": "code",
   "execution_count": null,
   "metadata": {},
   "outputs": [],
   "source": [
    "# Exercise 1\n",
    "\n",
    "arr_source = [1.5, 2.5, 3.5, 4.5]\n",
    "arr_1d = np.array(arr_source)\n",
    "\n",
    "arr_1d"
   ]
  },
  {
   "cell_type": "code",
   "execution_count": 29,
   "metadata": {},
   "outputs": [
    {
     "data": {
      "text/plain": [
       "array([[1, 2, 3],\n",
       "       [4, 5, 6],\n",
       "       [7, 8, 9]])"
      ]
     },
     "execution_count": 29,
     "metadata": {},
     "output_type": "execute_result"
    }
   ],
   "source": [
    "# Exercise 2\n",
    "\n",
    "arr_source = [[1, 2, 3], [4, 5, 6], [7, 8, 9]]\n",
    "arr_2d = np.array(arr_source)\n",
    "\n",
    "arr_2d"
   ]
  },
  {
   "cell_type": "code",
   "execution_count": null,
   "metadata": {
    "collapsed": true
   },
   "outputs": [],
   "source": [
    "# Solution for Exercise 1\n",
    "ex1_arr = np.array([1.5, 2.5, 3.5, 4.5])\n",
    "print(\"Solution 1:\")\n",
    "print(ex1_arr)\n",
    "\n",
    "# Solution for Exercise 2\n",
    "ex2_list = [[-1, 0, 1], [1, -1, 0], [0, 1, -1]]\n",
    "ex2_arr = np.array(ex2_list)\n",
    "print(\"\\nSolution 2:\")\n",
    "print(ex2_arr)"
   ]
  },
  {
   "cell_type": "markdown",
   "metadata": {},
   "source": [
    "### 2.2. Array Creation with Built-in Functions\n",
    "NumPy provides several highly efficient functions for creating arrays from scratch."
   ]
  },
  {
   "cell_type": "code",
   "execution_count": 30,
   "metadata": {},
   "outputs": [
    {
     "name": "stdout",
     "output_type": "stream",
     "text": [
      "np.arange(0, 10, 2):\n",
      " [0 2 4 6 8]\n"
     ]
    }
   ],
   "source": [
    "# `np.arange()` is similar to Python's `range()` but returns a NumPy array.\n",
    "arange_arr = np.arange(0, 10, 2) # (start, stop, step)\n",
    "print(\"np.arange(0, 10, 2):\\n\", arange_arr)"
   ]
  },
  {
   "cell_type": "code",
   "execution_count": null,
   "metadata": {},
   "outputs": [
    {
     "name": "stdout",
     "output_type": "stream",
     "text": [
      "\n",
      "np.zeros((2, 4)):\n",
      " [[0 0 0 0]\n",
      " [0 0 0 0]]\n"
     ]
    }
   ],
   "source": [
    "# `np.zeros()` creates an array filled with zeros.\n",
    "zeros_arr = np.zeros((2, 4), dtype=int) # Shape is passed as a tuple. With \"dtype=int\" everything will be \"0\", without it \"0.\"\n",
    "print(\"\\nnp.zeros((2, 4)):\\n\", zeros_arr)"
   ]
  },
  {
   "cell_type": "code",
   "execution_count": 33,
   "metadata": {},
   "outputs": [
    {
     "name": "stdout",
     "output_type": "stream",
     "text": [
      "\n",
      "np.ones((3, 2)):\n",
      " [[1. 1.]\n",
      " [1. 1.]\n",
      " [1. 1.]]\n"
     ]
    }
   ],
   "source": [
    "# `np.ones()` creates an array filled with ones.\n",
    "ones_arr = np.ones((3, 2))\n",
    "print(\"\\nnp.ones((3, 2)):\\n\", ones_arr)"
   ]
  },
  {
   "cell_type": "code",
   "execution_count": null,
   "metadata": {},
   "outputs": [
    {
     "name": "stdout",
     "output_type": "stream",
     "text": [
      "\n",
      "np.linspace(0, 5, 6):\n",
      " [0.   1.25 2.5  3.75 5.  ]\n"
     ]
    }
   ],
   "source": [
    "# `np.linspace()` creates an array with a specific number of evenly spaced points.\n",
    "linspace_arr = np.linspace(0, 5, 3) # (start, stop, num_points)\n",
    "print(\"\\nnp.linspace(0, 5, 6):\\n\", linspace_arr)"
   ]
  },
  {
   "cell_type": "code",
   "execution_count": 39,
   "metadata": {},
   "outputs": [
    {
     "name": "stdout",
     "output_type": "stream",
     "text": [
      "\n",
      "np.full((2,3), 7):\n",
      " [[7 7 7]\n",
      " [7 7 7]]\n"
     ]
    }
   ],
   "source": [
    "# `np.full()` creates an array of a given shape filled with a specific value.\n",
    "full_arr = np.full((2,3), 7)\n",
    "print(\"\\nnp.full((2,3), 7):\\n\", full_arr)\n"
   ]
  },
  {
   "cell_type": "code",
   "execution_count": null,
   "metadata": {},
   "outputs": [
    {
     "name": "stdout",
     "output_type": "stream",
     "text": [
      "\n",
      "np.eye(4):\n",
      " [[1. 0. 0. 0.]\n",
      " [0. 1. 0. 0.]\n",
      " [0. 0. 1. 0.]\n",
      " [0. 0. 0. 1.]]\n"
     ]
    }
   ],
   "source": [
    "# `np.eye()` creates a 2D identity matrix (1s on the diagonal, 0s elsewhere).\n",
    "# Always returns a square matrix.\n",
    "eye_arr = np.eye(4)\n",
    "print(\"\\nnp.eye(4):\\n\", eye_arr)"
   ]
  },
  {
   "cell_type": "markdown",
   "metadata": {},
   "source": [
    "#### Practice Exercises (2.2)\n",
    "\n",
    "**Exercise 1:** Create an array of 50 ones.\n",
    "**Exercise 2:** Create a 4x4 array of zeros, but with `float` as the data type.\n",
    "**Exercise 3:** Create an array with 10 numbers evenly spaced between 0 and 1."
   ]
  },
  {
   "cell_type": "code",
   "execution_count": null,
   "metadata": {},
   "outputs": [
    {
     "data": {
      "text/plain": [
       "array([1., 1., 1., 1., 1., 1., 1., 1., 1., 1., 1., 1., 1., 1., 1., 1., 1.,\n",
       "       1., 1., 1., 1., 1., 1., 1., 1., 1., 1., 1., 1., 1., 1., 1., 1., 1.,\n",
       "       1., 1., 1., 1., 1., 1., 1., 1., 1., 1., 1., 1., 1., 1., 1., 1.])"
      ]
     },
     "execution_count": 46,
     "metadata": {},
     "output_type": "execute_result"
    }
   ],
   "source": [
    "# Exercise 1\n",
    "ex1 = np.ones(50)\n",
    "\n",
    "ex1"
   ]
  },
  {
   "cell_type": "code",
   "execution_count": 48,
   "metadata": {},
   "outputs": [
    {
     "data": {
      "text/plain": [
       "array([[0., 0., 0., 0.],\n",
       "       [0., 0., 0., 0.],\n",
       "       [0., 0., 0., 0.],\n",
       "       [0., 0., 0., 0.]])"
      ]
     },
     "execution_count": 48,
     "metadata": {},
     "output_type": "execute_result"
    }
   ],
   "source": [
    "# Exercise 2\n",
    "\n",
    "ex2 = np.zeros((4, 4), dtype=float)\n",
    "\n",
    "ex2"
   ]
  },
  {
   "cell_type": "code",
   "execution_count": 49,
   "metadata": {},
   "outputs": [
    {
     "data": {
      "text/plain": [
       "array([0.        , 0.11111111, 0.22222222, 0.33333333, 0.44444444,\n",
       "       0.55555556, 0.66666667, 0.77777778, 0.88888889, 1.        ])"
      ]
     },
     "execution_count": 49,
     "metadata": {},
     "output_type": "execute_result"
    }
   ],
   "source": [
    "# Exercise 3\n",
    "\n",
    "ex3 = np.linspace(0, 1, 10)\n",
    "\n",
    "ex3"
   ]
  },
  {
   "cell_type": "code",
   "execution_count": null,
   "metadata": {
    "collapsed": true
   },
   "outputs": [],
   "source": [
    "# Solution for Exercise 1\n",
    "ex1_arr = np.ones(50)\n",
    "print(\"Solution 1:\")\n",
    "print(ex1_arr)\n",
    "\n",
    "# Solution for Exercise 2\n",
    "ex2_arr = np.zeros((4,4), dtype=float)\n",
    "print(\"\\nSolution 2:\")\n",
    "print(ex2_arr)\n",
    "\n",
    "# Solution for Exercise 3\n",
    "ex3_arr = np.linspace(0, 1, 10)\n",
    "print(\"\\nSolution 3:\")\n",
    "print(ex3_arr)"
   ]
  },
  {
   "cell_type": "markdown",
   "metadata": {},
   "source": [
    "### 2.3. Array Attributes: Dimensions, Shape, Size, and Type\n",
    "These attributes provide metadata about the array."
   ]
  },
  {
   "cell_type": "code",
   "execution_count": null,
   "metadata": {},
   "outputs": [
    {
     "name": "stdout",
     "output_type": "stream",
     "text": [
      "Sample Array:\n",
      " [[[ 0  1  2  3]\n",
      "  [ 4  5  6  7]\n",
      "  [ 8  9 10 11]]\n",
      "\n",
      " [[12 13 14 15]\n",
      "  [16 17 18 19]\n",
      "  [20 21 22 23]]]\n"
     ]
    }
   ],
   "source": [
    "# Let's create a sample 3D array for demonstration\n",
    "arr = np.arange(24).reshape(2, 3, 4) # 2 matrices, each with 3 rows and 4 columns (3D)\n",
    "# Number in 'arrange' and multiplication of what's inside reshape must be equal\n",
    "print(\"Sample Array:\\n\", arr)"
   ]
  },
  {
   "cell_type": "code",
   "execution_count": null,
   "metadata": {},
   "outputs": [
    {
     "name": "stdout",
     "output_type": "stream",
     "text": [
      "Sample Array:\n",
      " [[[ 0  1  2  3]\n",
      "  [ 4  5  6  7]]\n",
      "\n",
      " [[ 8  9 10 11]\n",
      "  [12 13 14 15]]\n",
      "\n",
      " [[16 17 18 19]\n",
      "  [20 21 22 23]]]\n"
     ]
    }
   ],
   "source": [
    "# What would happen here?\n",
    "# Number in 'arrange' and multiplication of what's inside reshape must be equal\n",
    "\n",
    "arr = np.arange(24).reshape(3, 2, 4) \n",
    "print(\"Sample Array:\\n\", arr)"
   ]
  },
  {
   "cell_type": "code",
   "execution_count": 79,
   "metadata": {},
   "outputs": [
    {
     "data": {
      "text/plain": [
       "array([[[[ 0,  1],\n",
       "         [ 2,  3]],\n",
       "\n",
       "        [[ 4,  5],\n",
       "         [ 6,  7]]],\n",
       "\n",
       "\n",
       "       [[[ 8,  9],\n",
       "         [10, 11]],\n",
       "\n",
       "        [[12, 13],\n",
       "         [14, 15]]],\n",
       "\n",
       "\n",
       "       [[[16, 17],\n",
       "         [18, 19]],\n",
       "\n",
       "        [[20, 21],\n",
       "         [22, 23]]]])"
      ]
     },
     "execution_count": 79,
     "metadata": {},
     "output_type": "execute_result"
    }
   ],
   "source": [
    "# Is it possible to create 4D array? If yes - how? If no - why?\n",
    "\n",
    "arr = np.arange(24).reshape(3, 2, 2, 2) \n",
    "\n",
    "arr"
   ]
  },
  {
   "cell_type": "code",
   "execution_count": 80,
   "metadata": {},
   "outputs": [
    {
     "name": "stdout",
     "output_type": "stream",
     "text": [
      "\n",
      "Number of Dimensions (a.ndim): 4\n"
     ]
    }
   ],
   "source": [
    "# a.ndim: NUMBER OF DIMENSIONS\n",
    "print(f\"\\nNumber of Dimensions (a.ndim): {arr.ndim}\")"
   ]
  },
  {
   "cell_type": "code",
   "execution_count": 81,
   "metadata": {},
   "outputs": [
    {
     "name": "stdout",
     "output_type": "stream",
     "text": [
      "Shape (a.shape): (3, 2, 2, 2)\n"
     ]
    }
   ],
   "source": [
    "# a.shape: ARRAY SHAPE as a tuple (depth, rows, columns)\n",
    "print(f\"Shape (a.shape): {arr.shape}\")"
   ]
  },
  {
   "cell_type": "code",
   "execution_count": 82,
   "metadata": {},
   "outputs": [
    {
     "name": "stdout",
     "output_type": "stream",
     "text": [
      "Size/Element Count (a.size): 24\n"
     ]
    }
   ],
   "source": [
    "# a.size: ARRAY SIZE (total ELEMENT COUNT)\n",
    "print(f\"Size/Element Count (a.size): {arr.size}\")"
   ]
  },
  {
   "cell_type": "code",
   "execution_count": 67,
   "metadata": {},
   "outputs": [
    {
     "name": "stdout",
     "output_type": "stream",
     "text": [
      "Numeric Type of elements (a.dtype): int64\n"
     ]
    }
   ],
   "source": [
    "# a.dtype: NUMERIC 'TYPE' OF ELEMENTS\n",
    "print(f\"Numeric Type of elements (a.dtype): {arr.dtype}\")"
   ]
  },
  {
   "cell_type": "code",
   "execution_count": 68,
   "metadata": {},
   "outputs": [
    {
     "name": "stdout",
     "output_type": "stream",
     "text": [
      "\n",
      "Float array has dtype: float64\n"
     ]
    }
   ],
   "source": [
    "# You can explicitly set the dtype during creation for different precision\n",
    "float_arr = np.array([1, 2, 3,], dtype=np.float64)\n",
    "print(f\"\\nFloat array has dtype: {float_arr.dtype}\")"
   ]
  },
  {
   "cell_type": "markdown",
   "metadata": {},
   "source": [
    "### 2.4. Array Attributes: Memory Usage\n",
    "You can inspect how much memory your array is using."
   ]
  },
  {
   "cell_type": "code",
   "execution_count": 69,
   "metadata": {},
   "outputs": [
    {
     "name": "stdout",
     "output_type": "stream",
     "text": [
      "\n",
      "Number of Dimensions (a.ndim): 4\n",
      "Shape (a.shape): (3, 2, 2, 2)\n",
      "Size/Element Count (a.size): 24\n",
      "Numeric Type of elements (a.dtype): int64\n",
      "\n",
      "Float array has dtype: float64\n"
     ]
    }
   ],
   "source": [
    "# a.ndim: NUMBER OF DIMENSIONS\n",
    "print(f\"\\nNumber of Dimensions (a.ndim): {arr.ndim}\")\n",
    "\n",
    "# a.shape: ARRAY SHAPE as a tuple (depth, rows, columns)\n",
    "print(f\"Shape (a.shape): {arr.shape}\")\n",
    "\n",
    "# a.size: ARRAY SIZE (total ELEMENT COUNT)\n",
    "print(f\"Size/Element Count (a.size): {arr.size}\")\n",
    "\n",
    "# a.dtype: NUMERIC 'TYPE' OF ELEMENTS\n",
    "print(f\"Numeric Type of elements (a.dtype): {arr.dtype}\")\n",
    "\n",
    "# You can explicitly set the dtype during creation for different precision\n",
    "float_arr = np.array([1, 2, 3], dtype=np.float64)\n",
    "print(f\"\\nFloat array has dtype: {float_arr.dtype}\")"
   ]
  },
  {
   "cell_type": "code",
   "execution_count": 70,
   "metadata": {},
   "outputs": [
    {
     "name": "stdout",
     "output_type": "stream",
     "text": [
      "Array with 64-bit integers: [0 1 2 3 4 5 6 7 8 9]\n",
      "Array dtype: int64\n",
      "Bytes per Element (a.itemsize): 8\n",
      "Total Bytes of Memory (a.nbytes): 80\n"
     ]
    }
   ],
   "source": [
    "arr = np.arange(10, dtype=np.int64) # 64-bit integers\n",
    "print(\"Array with 64-bit integers:\", arr)\n",
    "print(\"Array dtype:\", arr.dtype)\n",
    "\n",
    "# a.itemsize: BYTES PER ELEMENT\n",
    "# An int64 is 8 bytes (64 bits / 8 bits per byte)\n",
    "print(f\"Bytes per Element (a.itemsize): {arr.itemsize}\")\n",
    "\n",
    "# a.nbytes: TOTAL BYTES OF MEMORY USED\n",
    "# This is equivalent to a.size * a.itemsize\n",
    "print(f\"Total Bytes of Memory (a.nbytes): {arr.nbytes}\")"
   ]
  },
  {
   "cell_type": "markdown",
   "metadata": {},
   "source": [
    "### 2.5. Array Copy vs. View and Conversion to List"
   ]
  },
  {
   "cell_type": "code",
   "execution_count": 71,
   "metadata": {},
   "outputs": [
    {
     "name": "stdout",
     "output_type": "stream",
     "text": [
      "Original 'a': [0 1 2 3 4 5 6 7 8 9]\n"
     ]
    }
   ],
   "source": [
    "a = np.arange(10)\n",
    "print(\"Original 'a':\", a)"
   ]
  },
  {
   "cell_type": "code",
   "execution_count": 72,
   "metadata": {},
   "outputs": [
    {
     "name": "stdout",
     "output_type": "stream",
     "text": [
      "'a' was changed when 'b' was changed: [100   1   2   3   4   5   6   7   8   9]\n"
     ]
    }
   ],
   "source": [
    "# Simple assignment is NOT a copy; it's just another name for the same object.\n",
    "b = a\n",
    "b[0] = 100\n",
    "print(\"'a' was changed when 'b' was changed:\", a)"
   ]
  },
  {
   "cell_type": "code",
   "execution_count": 73,
   "metadata": {},
   "outputs": [
    {
     "name": "stdout",
     "output_type": "stream",
     "text": [
      "'a' was also changed by modifying the view 'c_view': [100 999   2   3   4   5   6   7   8   9]\n"
     ]
    }
   ],
   "source": [
    "# Slicing creates a VIEW, a view into the original data. Modifying the view modifies the original.\n",
    "c_view = a[1:4]\n",
    "c_view[0] = 999\n",
    "print(\"'a' was also changed by modifying the view 'c_view':\", a)"
   ]
  },
  {
   "cell_type": "code",
   "execution_count": 74,
   "metadata": {},
   "outputs": [
    {
     "name": "stdout",
     "output_type": "stream",
     "text": [
      "'a' is finally safe from changes to the copy 'd_copy': [100 999   2   3   4   5   6   7   8   9]\n",
      "The copy 'd_copy' is independent: [-500  999    2    3    4    5    6    7    8    9]\n"
     ]
    }
   ],
   "source": [
    "# To create a true, independent ARRAY COPY, you must use the `.copy()` method.\n",
    "d_copy = a.copy()\n",
    "d_copy[0] = -500\n",
    "print(\"'a' is finally safe from changes to the copy 'd_copy':\", a)\n",
    "print(\"The copy 'd_copy' is independent:\", d_copy)\n"
   ]
  },
  {
   "cell_type": "code",
   "execution_count": 75,
   "metadata": {},
   "outputs": [
    {
     "name": "stdout",
     "output_type": "stream",
     "text": [
      "\n",
      "'a' converted to a Python list: [100, 999, 2, 3, 4, 5, 6, 7, 8, 9]\n",
      "Type is now: <class 'list'>\n"
     ]
    }
   ],
   "source": [
    "# .tolist() provides a CONVERSION TO a standard Python LIST\n",
    "a_list = a.tolist()\n",
    "print(f\"\\n'a' converted to a Python list: {a_list}\")\n",
    "print(\"Type is now:\", type(a_list))"
   ]
  },
  {
   "cell_type": "markdown",
   "metadata": {},
   "source": [
    "---\n",
    "## 3. Indexing, Slicing, and Setting Elements"
   ]
  },
  {
   "cell_type": "markdown",
   "metadata": {},
   "source": [
    "### 3.1. Basic ARRAY INDEXING\n",
    "For **Multi-Dimensional Arrays**, you use a tuple of indices `[row, column]` to GET/SET elements."
   ]
  },
  {
   "cell_type": "code",
   "execution_count": 3,
   "metadata": {},
   "outputs": [
    {
     "name": "stdout",
     "output_type": "stream",
     "text": [
      "2D Array with shape (ROWS,COLUMNS) of (3, 4) :\n",
      " [[10 11 12 13]\n",
      " [20 21 22 23]\n",
      " [30 31 32 33]]\n",
      "ELEMENT COUNT: 12\n",
      "NUMBER OF DIMENSIONS: 2\n"
     ]
    }
   ],
   "source": [
    "arr_2d = np.array([[10, 11, 12, 13], [20, 21, 22, 23], [30, 31, 32, 33]])\n",
    "print(\"2D Array with shape (ROWS,COLUMNS) of\", arr_2d.shape, \":\\n\", arr_2d)\n",
    "print(\"ELEMENT COUNT:\", arr_2d.size)\n",
    "print(\"NUMBER OF DIMENSIONS:\", arr_2d.ndim)\n"
   ]
  },
  {
   "cell_type": "code",
   "execution_count": 4,
   "metadata": {},
   "outputs": [
    {
     "name": "stdout",
     "output_type": "stream",
     "text": [
      "\n",
      "Element at row 1, col 2: 22\n"
     ]
    }
   ],
   "source": [
    "# Get a single element: arr[row, col]\n",
    "element = arr_2d[1, 2] # GET/SET element\n",
    "print(\"\\nElement at row 1, col 2:\", element)\n"
   ]
  },
  {
   "cell_type": "code",
   "execution_count": 5,
   "metadata": {},
   "outputs": [
    {
     "name": "stdout",
     "output_type": "stream",
     "text": [
      "\n",
      "Getting the entire first row (index 0): [10 11 12 13]\n"
     ]
    }
   ],
   "source": [
    "# You can also ADDRESS FIRST ROW USING SINGLE INDEX\n",
    "first_row = arr_2d[0]\n",
    "print(\"\\nGetting the entire first row (index 0):\", first_row)\n"
   ]
  },
  {
   "cell_type": "code",
   "execution_count": 6,
   "metadata": {},
   "outputs": [
    {
     "name": "stdout",
     "output_type": "stream",
     "text": [
      "\n",
      "Array after setting arr[0,0] to 99:\n",
      " [[99 11 12 13]\n",
      " [20 21 22 23]\n",
      " [30 31 32 33]]\n"
     ]
    }
   ],
   "source": [
    "# Set an element to a new value\n",
    "arr_2d[0, 0] = 99\n",
    "print(\"\\nArray after setting arr[0,0] to 99:\\n\", arr_2d)"
   ]
  },
  {
   "cell_type": "markdown",
   "metadata": {},
   "source": [
    "### 3.2. Array Slicing\n",
    "**SLICING WORKS MUCH LIKE STANDARD PYTHON SLICING** (`start:stop:step`), but can be applied to multiple dimensions. The `step` value is also called a **STRIDE**."
   ]
  },
  {
   "cell_type": "code",
   "execution_count": null,
   "metadata": {},
   "outputs": [],
   "source": [
    "arr_1d = np.arange(20)\n",
    "print(\"1D Array:\", arr_1d)"
   ]
  },
  {
   "cell_type": "code",
   "execution_count": null,
   "metadata": {},
   "outputs": [],
   "source": [
    "# Get a slice of elements (from index 2 up to, but not including, index 8)\n",
    "print(\"Slice from index 2 to 8:\", arr_1d[2:8])"
   ]
  },
  {
   "cell_type": "code",
   "execution_count": null,
   "metadata": {},
   "outputs": [],
   "source": [
    "# Slice with a stride of 3 (get every third element)\n",
    "print(\"Slice with a stride of 3:\", arr_1d[::3])"
   ]
  },
  {
   "cell_type": "code",
   "execution_count": 7,
   "metadata": {},
   "outputs": [
    {
     "name": "stdout",
     "output_type": "stream",
     "text": [
      "\n",
      "2D Array:\n",
      " [[ 1  2  3  4]\n",
      " [ 5  6  7  8]\n",
      " [ 9 10 11 12]\n",
      " [13 14 15 16]]\n"
     ]
    }
   ],
   "source": [
    "# Slice a 2D array\n",
    "arr_2d = np.arange(1, 17).reshape(4, 4)\n",
    "print(\"\\n2D Array:\\n\", arr_2d)"
   ]
  },
  {
   "cell_type": "code",
   "execution_count": 8,
   "metadata": {},
   "outputs": [
    {
     "name": "stdout",
     "output_type": "stream",
     "text": [
      "\n",
      "Slice of 2D array (first 2 rows, cols 1-2):\n",
      " [[2 3]\n",
      " [6 7]]\n"
     ]
    }
   ],
   "source": [
    "# Get the first two rows and columns 1 through 2\n",
    "slice_2d = arr_2d[:2, 1:3]\n",
    "print(\"\\nSlice of 2D array (first 2 rows, cols 1-2):\\n\", slice_2d)"
   ]
  },
  {
   "cell_type": "code",
   "execution_count": 11,
   "metadata": {},
   "outputs": [
    {
     "data": {
      "text/plain": [
       "array([[ 6,  7],\n",
       "       [10, 11]])"
      ]
     },
     "execution_count": 11,
     "metadata": {},
     "output_type": "execute_result"
    }
   ],
   "source": [
    "# How to get the middle of the square?\n",
    "\n",
    "arr_2d[1:3, 1:3]  # This will give you the middle 2x2 square of the 3D array"
   ]
  },
  {
   "cell_type": "markdown",
   "metadata": {},
   "source": [
    "### 3.3. Setting Values with Slices, Fill, and Type Coercion"
   ]
  },
  {
   "cell_type": "code",
   "execution_count": 12,
   "metadata": {},
   "outputs": [
    {
     "name": "stdout",
     "output_type": "stream",
     "text": [
      "Original: [0 1 2 3 4 5 6 7 8 9]\n"
     ]
    }
   ],
   "source": [
    "arr = np.arange(10)\n",
    "print(\"Original:\", arr)"
   ]
  },
  {
   "cell_type": "code",
   "execution_count": 13,
   "metadata": {},
   "outputs": [
    {
     "name": "stdout",
     "output_type": "stream",
     "text": [
      "After setting slice: [  0   1   2   3   4 100 100 100 100 100]\n"
     ]
    }
   ],
   "source": [
    "# Set a slice of the array to a new value\n",
    "arr[5:] = 100\n",
    "print(\"After setting slice:\", arr)"
   ]
  },
  {
   "cell_type": "code",
   "execution_count": 14,
   "metadata": {},
   "outputs": [
    {
     "name": "stdout",
     "output_type": "stream",
     "text": [
      "After using .fill(7): [7 7 7 7 7 7 7 7 7 7]\n"
     ]
    }
   ],
   "source": [
    "# Use FILL to set all values to a single value\n",
    "arr.fill(7)\n",
    "print(\"After using .fill(7):\", arr)"
   ]
  },
  {
   "cell_type": "code",
   "execution_count": 15,
   "metadata": {},
   "outputs": [
    {
     "name": "stdout",
     "output_type": "stream",
     "text": [
      "\n",
      "Integer array of type int32: [0 0 0 0 0]\n",
      "After assigning a float: [3 0 0 0 0] <-- The float was truncated to an integer!\n"
     ]
    }
   ],
   "source": [
    "# BEWARE OF TYPE COERSION: If you assign a value that doesn't match the array's dtype,\n",
    "# NumPy will silently force it to match, which can lead to loss of data.\n",
    "int_arr = np.zeros(5, dtype=np.int32)\n",
    "print(f\"\\nInteger array of type {int_arr.dtype}: {int_arr}\")\n",
    "int_arr[0] = 3.14159 # Assigning a float to an int array\n",
    "print(f\"After assigning a float: {int_arr} <-- The float was truncated to an integer!\" )"
   ]
  },
  {
   "cell_type": "markdown",
   "metadata": {},
   "source": [
    "### 3.4. Fancy Indexing\n",
    "Fancy indexing allows selecting elements using arrays of indices instead of single scalars or slices. This is a very powerful feature."
   ]
  },
  {
   "cell_type": "markdown",
   "metadata": {},
   "source": [
    "#### Fancy Indexing: By Position\n",
    "This uses an array of integers to specify the indices of the elements you want to select."
   ]
  },
  {
   "cell_type": "code",
   "execution_count": 16,
   "metadata": {},
   "outputs": [
    {
     "name": "stdout",
     "output_type": "stream",
     "text": [
      "Original Array: [100 101 102 103 104 105 106 107 108 109]\n"
     ]
    }
   ],
   "source": [
    "arr = np.arange(100, 110)\n",
    "print(\"Original Array:\", arr)"
   ]
  },
  {
   "cell_type": "code",
   "execution_count": 17,
   "metadata": {},
   "outputs": [
    {
     "name": "stdout",
     "output_type": "stream",
     "text": [
      "\n",
      "Selected elements at indices [1, 3, 5]: [101 103 108]\n"
     ]
    }
   ],
   "source": [
    "# Pass a list or array of indices to select specific elements\n",
    "indices = [1, 3, 8]\n",
    "print(\"\\nSelected elements at indices [1, 3, 5]:\", arr[indices])"
   ]
  },
  {
   "cell_type": "code",
   "execution_count": 22,
   "metadata": {},
   "outputs": [
    {
     "name": "stdout",
     "output_type": "stream",
     "text": [
      "\n",
      "2D Array:\n",
      " [[ 0  1  2  3]\n",
      " [ 4  5  6  7]\n",
      " [ 8  9 10 11]]\n"
     ]
    }
   ],
   "source": [
    "# For 2D arrays, you can pass a tuple of index arrays: one for rows, one for columns.\n",
    "arr_2d = np.arange(12).reshape((3, 4))\n",
    "print(\"\\n2D Array:\\n\", arr_2d)\n"
   ]
  },
  {
   "cell_type": "code",
   "execution_count": 25,
   "metadata": {},
   "outputs": [
    {
     "name": "stdout",
     "output_type": "stream",
     "text": [
      "\n",
      "Selected elements at (0,1), (1,2), (2,3): [ 1  6 11]\n"
     ]
    }
   ],
   "source": [
    "# Select elements at (row 0, col 1), (row 1, col 2), and (row 2, col 3)\n",
    "rows = np.array([0, 1, 2])\n",
    "cols = np.array([1, 2, 3])\n",
    "print(\"\\nSelected elements at (0,1), (1,2), (2,3):\", arr_2d[rows, cols])"
   ]
  },
  {
   "cell_type": "code",
   "execution_count": 27,
   "metadata": {},
   "outputs": [
    {
     "name": "stdout",
     "output_type": "stream",
     "text": [
      "\n",
      "Select full rows 0 and 2: [[ 0  1  2  3]\n",
      " [ 8  9 10 11]]\n"
     ]
    }
   ],
   "source": [
    "# Select entire rows using fancy indexing\n",
    "print(\"\\nSelect full rows 0 and 2:\", arr_2d[[0, 2]])"
   ]
  },
  {
   "cell_type": "code",
   "execution_count": 28,
   "metadata": {},
   "outputs": [
    {
     "name": "stdout",
     "output_type": "stream",
     "text": [
      "\n",
      "Select full rows 0 and 2: [[ 0  1  2  3]\n",
      " [ 8  9 10 11]]\n"
     ]
    }
   ],
   "source": [
    "# This is equivalent to\n",
    "\n",
    "print(\"\\nSelect full rows 0 and 2:\", arr_2d[[0, 2], :]) # (rows, columns)"
   ]
  },
  {
   "cell_type": "code",
   "execution_count": 32,
   "metadata": {},
   "outputs": [
    {
     "data": {
      "text/plain": [
       "array([[ 2,  3],\n",
       "       [ 6,  7],\n",
       "       [10, 11]])"
      ]
     },
     "execution_count": 32,
     "metadata": {},
     "output_type": "execute_result"
    }
   ],
   "source": [
    "# How do you choose columns?\n",
    "\n",
    "arr_2d[:, [2, 3]] # This will select the second and third columns of the 2D array"
   ]
  },
  {
   "cell_type": "code",
   "execution_count": 41,
   "metadata": {},
   "outputs": [
    {
     "data": {
      "text/plain": [
       "array([[ 1,  2,  3],\n",
       "       [ 9, 10, 11]])"
      ]
     },
     "execution_count": 41,
     "metadata": {},
     "output_type": "execute_result"
    }
   ],
   "source": [
    "# Choose row 0 and 2, and from column 1 to the end\n",
    "\n",
    "arr_2d[[0, 2], 1:]  # This will select rows 0 and 2, and all columns from index 1 to the end"
   ]
  },
  {
   "cell_type": "markdown",
   "metadata": {},
   "source": [
    "#### Fancy Indexing: With Booleans\n",
    "You can use a boolean array (a mask) to select elements from another array where the mask is `True`."
   ]
  },
  {
   "cell_type": "code",
   "execution_count": 43,
   "metadata": {},
   "outputs": [
    {
     "name": "stdout",
     "output_type": "stream",
     "text": [
      "Original Data:\n",
      " [[ 1  6 -2  8]\n",
      " [-1  8  8 -9]\n",
      " [-8  9  9  1]\n",
      " [-1  5  6  5]]\n"
     ]
    }
   ],
   "source": [
    "data = np.random.randint(-10, 10, size=(4, 4))\n",
    "print(\"Original Data:\\n\", data)"
   ]
  },
  {
   "cell_type": "code",
   "execution_count": 44,
   "metadata": {},
   "outputs": [
    {
     "name": "stdout",
     "output_type": "stream",
     "text": [
      "\n",
      "Boolean Mask (data > 0):\n",
      " [[ True  True False  True]\n",
      " [False  True  True False]\n",
      " [False  True  True  True]\n",
      " [False  True  True  True]]\n"
     ]
    }
   ],
   "source": [
    "# We can create a boolean condition.\n",
    "# For example, let's find all numbers greater than 0.\n",
    "is_positive = data > 0\n",
    "print(\"\\nBoolean Mask (data > 0):\\n\", is_positive)"
   ]
  },
  {
   "cell_type": "code",
   "execution_count": 45,
   "metadata": {},
   "outputs": [
    {
     "name": "stdout",
     "output_type": "stream",
     "text": [
      "\n",
      "Selected Positive Numbers: [1 6 8 8 8 9 9 1 5 6 5]\n"
     ]
    }
   ],
   "source": [
    "# Now we can use this boolean mask to select only the positive numbers.\n",
    "# The result will be a flattened 1D array.\n",
    "positive_numbers = data[is_positive]\n",
    "print(\"\\nSelected Positive Numbers:\", positive_numbers)"
   ]
  },
  {
   "cell_type": "code",
   "execution_count": null,
   "metadata": {},
   "outputs": [],
   "source": [
    "# This can be done in one step.\n",
    "print(\"\\nNumbers less than -5:\", data[data < -5])"
   ]
  },
  {
   "cell_type": "code",
   "execution_count": null,
   "metadata": {},
   "outputs": [],
   "source": [
    "# You can also combine conditions using `&` (and) and `|` (or).\n",
    "# Make sure to use parentheses due to operator precedence.\n",
    "print(\"\\nNumbers that are even AND positive:\", data[(data % 2 == 0) & (data > 0)])"
   ]
  },
  {
   "cell_type": "markdown",
   "metadata": {},
   "source": [
    "#### Practice Exercises (3)\n",
    "\n",
    "**Exercise 1 (Slicing):** Create a 6x6 array with numbers from 0 to 35. Select the bottom-right 3x3 sub-array.\n",
    "\n",
    "**Exercise 2 (Fancy Indexing):** Create a 10x10 array of random integers between 1 and 100. Extract all numbers greater than 90.\n",
    "\n",
    "**Exercise 3 (Fancy Indexing):** From the array in Exercise 2, extract the elements at positions (1,1), (3,5), and (8,0)."
   ]
  },
  {
   "cell_type": "code",
   "execution_count": null,
   "metadata": {
    "collapsed": true
   },
   "outputs": [],
   "source": [
    "# Solution for Exercise 1\n",
    "ex1_arr = np.arange(36).reshape(6, 6)\n",
    "print(\"Original 6x6 Array:\\n\", ex1_arr)\n",
    "bottom_right_3x3 = ex1_arr[3:, 3:]\n",
    "print(\"\\nSolution 1 (Bottom-Right 3x3):\\n\", bottom_right_3x3)\n",
    "\n",
    "# Solution for Exercise 2\n",
    "ex2_arr = np.random.randint(1, 101, size=(10,10))\n",
    "print(\"\\nOriginal 10x10 Array:\\n\", ex2_arr)\n",
    "high_values = ex2_arr[ex2_arr > 90]\n",
    "print(\"\\nSolution 2 (Values > 90):\", high_values)\n",
    "\n",
    "# Solution for Exercise 3\n",
    "rows_to_get = [1, 3, 8]\n",
    "cols_to_get = [1, 5, 0]\n",
    "specific_elements = ex2_arr[rows_to_get, cols_to_get]\n",
    "print(\"\\nSolution 3 (Specific Elements):\", specific_elements)"
   ]
  },
  {
   "cell_type": "markdown",
   "metadata": {},
   "source": [
    "---\n",
    "## 4. Array Operations and Universal Functions (UFuncs)"
   ]
  },
  {
   "cell_type": "markdown",
   "metadata": {},
   "source": [
    "### 4.1. Element-wise Array Operations\n",
    "Standard arithmetic operators are overloaded to work element-wise on arrays. These are examples of Universal Functions (UFuncs)."
   ]
  },
  {
   "cell_type": "code",
   "execution_count": 46,
   "metadata": {},
   "outputs": [
    {
     "name": "stdout",
     "output_type": "stream",
     "text": [
      "Original Array: [1 2 3 4 5]\n"
     ]
    }
   ],
   "source": [
    "arr = np.arange(1, 6)\n",
    "print(\"Original Array:\", arr)"
   ]
  },
  {
   "cell_type": "code",
   "execution_count": 49,
   "metadata": {},
   "outputs": [
    {
     "name": "stdout",
     "output_type": "stream",
     "text": [
      "Original Array: [1 2 3 4 5]\n",
      "Array + 5: [ 6  7  8  9 10]\n",
      "Array - 2: [-1  0  1  2  3]\n",
      "Array * 10: [10 20 30 40 50]\n",
      "Array / 2: [0.5 1.  1.5 2.  2.5]\n",
      "Array ** 2 (squared): [ 1  4  9 16 25]\n"
     ]
    }
   ],
   "source": [
    "# Basic arithmetic with a scalar\n",
    "print(\"Original Array:\", arr)\n",
    "print(\"Array + 5:\", arr + 5)\n",
    "print(\"Array - 2:\", arr - 2)\n",
    "print(\"Array * 10:\", arr * 10)\n",
    "print(\"Array / 2:\", arr / 2)\n",
    "print(\"Array ** 2 (squared):\", arr ** 2)\n"
   ]
  },
  {
   "cell_type": "code",
   "execution_count": 50,
   "metadata": {},
   "outputs": [
    {
     "data": {
      "text/plain": [
       "array([10, 10, 10, 10, 10])"
      ]
     },
     "execution_count": 50,
     "metadata": {},
     "output_type": "execute_result"
    }
   ],
   "source": [
    "np.full(5, 10)"
   ]
  },
  {
   "cell_type": "code",
   "execution_count": null,
   "metadata": {},
   "outputs": [],
   "source": [
    "# Arithmetic between two arrays of the same shape\n",
    "arr2 = np.full(5, 10)\n",
    "print(\"\\nSecond Array:\", arr2)\n",
    "print(\"arr + arr2:\", arr + arr2)"
   ]
  },
  {
   "cell_type": "code",
   "execution_count": null,
   "metadata": {},
   "outputs": [],
   "source": [
    "# what would happen here?\n",
    "\n",
    "np.arange(0, 5) + np.ones(4)"
   ]
  },
  {
   "cell_type": "code",
   "execution_count": null,
   "metadata": {},
   "outputs": [],
   "source": [
    "# Other common ufuncs\n",
    "print(\"\\nSquare root (np.sqrt):\", np.sqrt(arr))\n",
    "print(\"Exponential e^x (np.exp):\", np.exp(arr))\n",
    "print(\"Natural log (np.log):\", np.log(arr))"
   ]
  },
  {
   "cell_type": "markdown",
   "metadata": {},
   "source": [
    "### 4.2. Aggregation & Calculation Methods\n",
    "These methods perform a computation on an array, often resulting in a single number."
   ]
  },
  {
   "cell_type": "code",
   "execution_count": 52,
   "metadata": {},
   "outputs": [
    {
     "name": "stdout",
     "output_type": "stream",
     "text": [
      "Sample Array:\n",
      " [[1 2 3]\n",
      " [4 5 6]\n",
      " [7 8 9]]\n"
     ]
    }
   ],
   "source": [
    "arr = np.array([[1, 2, 3], [4, 5, 6], [7, 8, 9]])\n",
    "print(\"Sample Array:\\n\", arr)"
   ]
  },
  {
   "cell_type": "code",
   "execution_count": 53,
   "metadata": {},
   "outputs": [
    {
     "name": "stdout",
     "output_type": "stream",
     "text": [
      "Sum of all elements (sum): 45\n",
      "Product of all elements (prod): 362880\n",
      "Min value (min): 1\n",
      "Max value (max): 9\n"
     ]
    }
   ],
   "source": [
    "# Calculation methods on the entire array\n",
    "print(f\"Sum of all elements (sum): {arr.sum()}\")\n",
    "print(f\"Product of all elements (prod): {arr.prod()}\")\n",
    "print(f\"Min value (min): {arr.min()}\")\n",
    "print(f\"Max value (max): {arr.max()}\")"
   ]
  },
  {
   "cell_type": "code",
   "execution_count": 54,
   "metadata": {},
   "outputs": [
    {
     "name": "stdout",
     "output_type": "stream",
     "text": [
      "Index of min value (argmin): 0\n",
      "Index of max value (argmax): 8\n"
     ]
    }
   ],
   "source": [
    "# ARGMIN and ARGMAX find the *index* of the min/max value in the flattened array\n",
    "print(f\"Index of min value (argmin): {arr.argmin()}\")\n",
    "print(f\"Index of max value (argmax): {arr.argmax()}\")"
   ]
  },
  {
   "cell_type": "markdown",
   "metadata": {},
   "source": [
    "### 4.3. Statistics Array Methods\n",
    "Key methods for descriptive statistics."
   ]
  },
  {
   "cell_type": "code",
   "execution_count": null,
   "metadata": {},
   "outputs": [],
   "source": [
    "arr_stats = np.arange(1, 11, dtype=float)\n",
    "arr_stats[5] = 20 # add an outlier\n",
    "print(\"Sample Array for stats:\\n\", arr_stats)\n",
    "\n",
    "# Statistics for the whole array\n",
    "print(f\"MEAN of all elements: {arr_stats.mean():.2f}\")\n",
    "print(f\"MEDIAN (np.median): {np.median(arr_stats):.2f}\")\n",
    "print(f\"STANDARD DEV. of all elements: {arr_stats.std():.2f}\")\n",
    "print(f\"VARIANCE of all elements: {arr_stats.var():.2f}\")"
   ]
  },
  {
   "cell_type": "markdown",
   "metadata": {},
   "source": [
    "### 4.4. Aggregations Along Axes\n",
    "You can perform aggregations along a specific axis.\n",
    "* `axis=0` collapses the rows (operates on each **COLUMN**)\n",
    "* `axis=1` collapses the columns (operates on each **ROW**)"
   ]
  },
  {
   "cell_type": "code",
   "execution_count": null,
   "metadata": {},
   "outputs": [],
   "source": [
    "arr_2d = np.arange(12).reshape(3,4)\n",
    "print(\"2D Array:\\n\", arr_2d)"
   ]
  },
  {
   "cell_type": "code",
   "execution_count": null,
   "metadata": {},
   "outputs": [],
   "source": [
    "# Get the sum of each column (axis=0)\n",
    "print(\"Sum of each column (axis=0):\", arr_2d.sum(axis=0))"
   ]
  },
  {
   "cell_type": "code",
   "execution_count": null,
   "metadata": {},
   "outputs": [],
   "source": [
    "# Get the mean of each row (axis=1)\n",
    "print(\"Mean of each row (axis=1):\", arr_2d.mean(axis=1))"
   ]
  },
  {
   "cell_type": "code",
   "execution_count": null,
   "metadata": {},
   "outputs": [],
   "source": [
    "# Get the max of each column (axis=0)\n",
    "print(\"Max of each column (axis=0):\", arr_2d.max(axis=0))"
   ]
  },
  {
   "cell_type": "code",
   "execution_count": null,
   "metadata": {},
   "outputs": [
    {
     "name": "stdout",
     "output_type": "stream",
     "text": [
      "2D Array:\n",
      " [[[ 0  1  2]\n",
      "  [ 3  4  5]\n",
      "  [ 6  7  8]\n",
      "  [ 9 10 11]]\n",
      "\n",
      " [[12 13 14]\n",
      "  [15 16 17]\n",
      "  [18 19 20]\n",
      "  [21 22 23]]]\n"
     ]
    }
   ],
   "source": [
    "arr_3d = np.arange(24).reshape(2,4,3) # Depth = 2, Rows = 4, Columns = 3 - Number in \"np.arange(24)\" and in \"reshape\" must be equal\n",
    "print(\"2D Array:\\n\", arr_3d)"
   ]
  },
  {
   "cell_type": "code",
   "execution_count": null,
   "metadata": {},
   "outputs": [],
   "source": [
    "# what happen here?\n",
    "\n",
    "# arr_3d.sum(axis=0)\n",
    "# arr_3d.sum(axis=1)\n",
    "# arr_3d.sum(axis=2)\n"
   ]
  },
  {
   "cell_type": "code",
   "execution_count": null,
   "metadata": {},
   "outputs": [],
   "source": [
    "# What about 4th and 5th dimension?"
   ]
  },
  {
   "cell_type": "code",
   "execution_count": null,
   "metadata": {},
   "outputs": [],
   "source": [
    "arr_4d.sum(axis=0)"
   ]
  },
  {
   "cell_type": "markdown",
   "metadata": {},
   "source": [
    "### 4.5. Other Useful Methods: `clip` and `round`"
   ]
  },
  {
   "cell_type": "code",
   "execution_count": null,
   "metadata": {},
   "outputs": [],
   "source": [
    "arr = np.array([-5.6, 1.7, 8.2, 10.0, 15.1])\n",
    "print(\"Original:\", arr)"
   ]
  },
  {
   "cell_type": "code",
   "execution_count": null,
   "metadata": {},
   "outputs": [],
   "source": [
    "# .clip() limits values in an array. All values below a_min become a_min, and all above a_max become a_max.\n",
    "# This is useful for preventing extreme values (outliers).\n",
    "print(\"\\nClipped between 0 and 10:\", arr.clip(0, 10))"
   ]
  },
  {
   "cell_type": "code",
   "execution_count": null,
   "metadata": {},
   "outputs": [],
   "source": [
    "# .round() rounds elements to the given number of decimals.\n",
    "print(\"\\nRounded to 0 decimals:\", arr.round())\n",
    "print(\"Rounded to 1 decimal:\", arr.round(decimals=1))"
   ]
  },
  {
   "cell_type": "markdown",
   "metadata": {},
   "source": [
    "#### Practice Exercises (4)\n",
    "\n",
    "**Exercise 1:** Create a 3x5 array of random floats. Compute the sum of the entire array and the sum of each individual column.\n",
    "**Exercise 2:** For the array from Exercise 1, find the minimum and maximum value for each row.\n",
    "**Exercise 3:** You have an array of prices: `[20.50, 22.10, 19.80, 50.00, 15.25]`. Use `clip` to ensure no price is lower than $20 and no price is higher than $45."
   ]
  },
  {
   "cell_type": "code",
   "execution_count": null,
   "metadata": {
    "collapsed": true
   },
   "outputs": [],
   "source": [
    "# Solution for Exercise 1\n",
    "ex1_arr = np.random.randn(3, 5)\n",
    "print(\"Original 3x5 Array:\\n\", ex1_arr)\n",
    "print(f\"\\nSum of entire array: {ex1_arr.sum():.2f}\")\n",
    "print(f\"Sum of each column: {ex1_arr.sum(axis=0)}\")\n",
    "\n",
    "# Solution for Exercise 2\n",
    "print(\"\\nMin of each row:\", ex1_arr.min(axis=1))\n",
    "print(\"Max of each row:\", ex1_arr.max(axis=1))\n",
    "\n",
    "# Solution for Exercise 3\n",
    "prices = np.array([20.50, 22.10, 19.80, 50.00, 15.25])\n",
    "clipped_prices = prices.clip(20, 45)\n",
    "print(\"\\nOriginal Prices:\", prices)\n",
    "print(\"Clipped Prices:\", clipped_prices)"
   ]
  },
  {
   "cell_type": "markdown",
   "metadata": {},
   "source": [
    "---\n",
    "## 5. Array Manipulation and Reshaping"
   ]
  },
  {
   "cell_type": "markdown",
   "metadata": {},
   "source": [
    "### 5.1. Changing an Array's Shape (`reshape`, `transpose`, `T`)"
   ]
  },
  {
   "cell_type": "code",
   "execution_count": null,
   "metadata": {},
   "outputs": [],
   "source": [
    "arr = np.arange(12)\n",
    "print(\"Original Array:\", arr)"
   ]
  },
  {
   "cell_type": "code",
   "execution_count": null,
   "metadata": {},
   "outputs": [],
   "source": [
    "# `reshape()` returns a new array with a new shape. The new shape must have the same size.\n",
    "reshaped_arr = arr.reshape(3, 4)\n",
    "print(\"\\nReshaped to 3x4:\\n\", reshaped_arr)\n"
   ]
  },
  {
   "cell_type": "code",
   "execution_count": null,
   "metadata": {},
   "outputs": [],
   "source": [
    "# Transposing an array with `.transpose()` swaps its axes. For a 2D array, rows become columns.\n",
    "transposed_arr = reshaped_arr.transpose()\n",
    "print(\"\\nTransposed 4x3 array (using .transpose()):\\n\", transposed_arr)\n"
   ]
  },
  {
   "cell_type": "code",
   "execution_count": null,
   "metadata": {},
   "outputs": [],
   "source": [
    "# The `.T` attribute is a convenient shortcut for `.transpose()`.\n",
    "print(\"\\nTransposed 4x3 array (using .T):\\n\", reshaped_arr.T)"
   ]
  },
  {
   "cell_type": "markdown",
   "metadata": {},
   "source": [
    "### 5.2. Flattening Arrays (`flatten`, `ravel`)\n",
    "Both methods convert a multi-dimensional array to a 1D array. The key difference is memory management:\n",
    "- `flatten()`: Always returns a new **copy** of the array.\n",
    "- `ravel()`: Returns a **view** of the original array whenever possible. This is more memory-efficient."
   ]
  },
  {
   "cell_type": "code",
   "execution_count": null,
   "metadata": {},
   "outputs": [],
   "source": [
    "arr = np.arange(6).reshape(2, 3)\n",
    "print(\"Original array:\\n\", arr)"
   ]
  },
  {
   "cell_type": "code",
   "execution_count": null,
   "metadata": {},
   "outputs": [],
   "source": [
    "# Flatten returns a copy, so the original is safe\n",
    "arr = np.arange(12).reshape(2, 3, 2) # Recreate the original\n",
    "print(arr)"
   ]
  },
  {
   "cell_type": "code",
   "execution_count": null,
   "metadata": {},
   "outputs": [],
   "source": [
    "flattened_arr = arr.flatten()\n",
    "print(flattened_arr)"
   ]
  },
  {
   "cell_type": "code",
   "execution_count": null,
   "metadata": {},
   "outputs": [],
   "source": [
    "# Ravel returns a view, so modifying it affects the original\n",
    "raveled_arr = arr.ravel()\n",
    "print(raveled_arr)"
   ]
  },
  {
   "cell_type": "markdown",
   "metadata": {},
   "source": [
    "### 5.3. Resizing and Squeezing (`resize`, `squeeze`)"
   ]
  },
  {
   "cell_type": "code",
   "execution_count": null,
   "metadata": {},
   "outputs": [],
   "source": [
    "# `a.resize(new_shape)` modifies the array IN-PLACE and can change the total size\n",
    "# Note: If other variables refer to the array, it will raise an error.\n",
    "arr_to_resize = np.arange(4)\n",
    "print(\"Original:\", arr_to_resize)\n",
    "arr_to_resize.resize((3, 2)) # Size changes from 4 to 6. New elements are zero-filled.\n",
    "print(\"Resized in-place to (3,2):\\n\", arr_to_resize)"
   ]
  },
  {
   "cell_type": "code",
   "execution_count": null,
   "metadata": {},
   "outputs": [],
   "source": [
    "# `a.squeeze()` removes single-dimensional entries (axes of length 1) from the shape of an array\n",
    "arr_3d = np.array([[[1],[2],[3]]])\n",
    "print(f\"\\nArray with shape {arr_3d.shape}\")\n",
    "squeezed_arr = arr_3d.squeeze()\n",
    "print(f\"Squeezed array has shape {squeezed_arr.shape}:\")\n",
    "print(squeezed_arr)"
   ]
  },
  {
   "cell_type": "code",
   "execution_count": null,
   "metadata": {},
   "outputs": [],
   "source": [
    "arr_2d = np.array([[1, 2, 3]]) # what is te difference between 2D and 1D?\n",
    "print(f\"\\nArray with shape {arr_2d.shape}\")"
   ]
  },
  {
   "cell_type": "code",
   "execution_count": null,
   "metadata": {},
   "outputs": [],
   "source": [
    "squeezed_arr = arr_3d.squeeze()\n",
    "print(f\"Squeezed array has shape {squeezed_arr.shape}:\")\n",
    "print(squeezed_arr)"
   ]
  },
  {
   "cell_type": "markdown",
   "metadata": {},
   "source": [
    "### 5.4. Stacking and Splitting Arrays"
   ]
  },
  {
   "cell_type": "code",
   "execution_count": null,
   "metadata": {},
   "outputs": [],
   "source": [
    "arr1 = np.arange(1, 5).reshape(2, 2)\n",
    "arr2 = np.arange(5, 9).reshape(2, 2)\n",
    "print(arr1)\n",
    "print(arr2)"
   ]
  },
  {
   "cell_type": "code",
   "execution_count": null,
   "metadata": {},
   "outputs": [],
   "source": [
    "# `np.vstack()` (vertical stack) stacks arrays row-wise\n",
    "v_stacked = np.vstack((arr1, arr2))\n",
    "print(\"Vertically stacked:\\n\", v_stacked)"
   ]
  },
  {
   "cell_type": "code",
   "execution_count": null,
   "metadata": {},
   "outputs": [],
   "source": [
    "# `np.hstack()` (horizontal stack) stacks arrays column-wise\n",
    "h_stacked = np.hstack((arr1, arr2))\n",
    "print(\"\\nHorizontally stacked:\\n\", h_stacked)"
   ]
  },
  {
   "cell_type": "code",
   "execution_count": null,
   "metadata": {},
   "outputs": [],
   "source": [
    "# `np.concatenate()` is a more general function\n",
    "concatenated_v = np.concatenate([arr1, arr2], axis=0) # Same as vstack\n",
    "concatenated_h = np.concatenate([arr1, arr2], axis=1) # Same as hstack\n",
    "print(\"\\nConcatenated (axis=0):\\n\", concatenated_v)\n",
    "print(\"\\nConcatenated (axis=1):\\n\", concatenated_h)\n"
   ]
  },
  {
   "cell_type": "code",
   "execution_count": null,
   "metadata": {},
   "outputs": [],
   "source": [
    "# How to stack arrays from different dimensions?\n",
    "\n",
    "arr1 = np.arange(1, 17).reshape(4, 4)\n",
    "arr2 = np.arange(5, 9).reshape(2, 2)"
   ]
  },
  {
   "cell_type": "code",
   "execution_count": null,
   "metadata": {},
   "outputs": [],
   "source": [
    "arr1 = np.arange(1, 5).reshape(2, 2)\n",
    "arr2 = np.arange(5, 9).reshape(2, 2)\n",
    "\n",
    "concatenated_h = np.concatenate([arr1, arr2], axis=2) # what sould happen here?"
   ]
  },
  {
   "cell_type": "code",
   "execution_count": null,
   "metadata": {},
   "outputs": [],
   "source": [
    "# Join a sequence of arrays along a new axis\n",
    "\n",
    "np.stack([arr1, arr2], axis=0).shape"
   ]
  },
  {
   "cell_type": "code",
   "execution_count": null,
   "metadata": {},
   "outputs": [],
   "source": [
    "# Now more confusing\n",
    "\n",
    "arr1 = np.arange(1, 17).reshape(4, 4)\n",
    "arr2 = np.arange(17, 33).reshape(4, 4)\n",
    "print(arr1)\n",
    "print(arr2)"
   ]
  },
  {
   "cell_type": "code",
   "execution_count": null,
   "metadata": {},
   "outputs": [],
   "source": [
    "np.stack([arr1, arr2], axis=2)"
   ]
  },
  {
   "cell_type": "code",
   "execution_count": null,
   "metadata": {},
   "outputs": [],
   "source": [
    "# Splitting arrays\n",
    "big_arr = np.arange(16).reshape(4, 4)\n",
    "print(\"\\nBig Array for splitting:\\n\", big_arr)"
   ]
  },
  {
   "cell_type": "code",
   "execution_count": null,
   "metadata": {},
   "outputs": [],
   "source": [
    "# `np.hsplit()` splits an array into several smaller ones horizontally\n",
    "h_split = np.hsplit(big_arr, 2)\n",
    "print(\"\\nHorizontally split (into 2):\\n\", h_split)"
   ]
  },
  {
   "cell_type": "code",
   "execution_count": null,
   "metadata": {},
   "outputs": [],
   "source": [
    "# `np.vsplit()` splits an array vertically\n",
    "v_split = np.vsplit(big_arr, 4)\n",
    "print(\"\\nVertically split (into 4):\\n\", v_split)"
   ]
  },
  {
   "cell_type": "markdown",
   "metadata": {},
   "source": [
    "---\n",
    "## 6. Sorting, Searching, and Set Logic"
   ]
  },
  {
   "cell_type": "markdown",
   "metadata": {},
   "source": [
    "### 6.1. Sorting (`sort`, `argsort`)"
   ]
  },
  {
   "cell_type": "code",
   "execution_count": null,
   "metadata": {},
   "outputs": [],
   "source": [
    "arr = np.array([[3, 2, 4], [1, 5, 0]])\n",
    "print(\"Original Array:\\n\", arr)"
   ]
  },
  {
   "cell_type": "code",
   "execution_count": null,
   "metadata": {},
   "outputs": [],
   "source": [
    "# `np.sort()` returns a new, sorted COPY of an array\n",
    "sorted_copy = np.sort(arr, axis=1) # Sort each row\n",
    "print(\"\\nSorted copy (original is unchanged):\\n\", sorted_copy)"
   ]
  },
  {
   "cell_type": "code",
   "execution_count": null,
   "metadata": {},
   "outputs": [],
   "source": [
    "sorted_copy = np.sort(arr, axis=0) # Sort each column\n",
    "print(\"\\nSorted copy (original is unchanged):\\n\", sorted_copy)"
   ]
  },
  {
   "cell_type": "code",
   "execution_count": null,
   "metadata": {},
   "outputs": [],
   "source": [
    "# `a.sort()` sorts an array IN-PLACE (it modifies the original)\n",
    "arr.sort(axis=1)\n",
    "print(\"\\nArray sorted along rows (in-place):\\n\", arr)"
   ]
  },
  {
   "cell_type": "markdown",
   "metadata": {},
   "source": [
    "### 6.2. Searching and Iterating (`nonzero`, `where`)"
   ]
  },
  {
   "cell_type": "code",
   "execution_count": null,
   "metadata": {},
   "outputs": [],
   "source": [
    "arr = np.array([[3, 0, 3], [1, 1, 0], [3, 2, 0]])\n",
    "print(\"Array:\\n\", arr)"
   ]
  },
  {
   "cell_type": "code",
   "execution_count": null,
   "metadata": {},
   "outputs": [],
   "source": [
    "# `a.nonzero()`: Returns the indices of the non-zero elements.\n",
    "non_zero_indices = arr.nonzero()\n",
    "print(\"\\nIndices of non-zero elements (rows, then cols):\", non_zero_indices)"
   ]
  },
  {
   "cell_type": "code",
   "execution_count": null,
   "metadata": {},
   "outputs": [],
   "source": [
    "# `np.where()`: A powerful conditional function. `np.where(condition, value_if_true, value_if_false)`\n",
    "arr_with_neg = np.array([-1, 5, -10, 8, -3])\n",
    "replaced_arr = np.where(arr_with_neg < 0, 0, arr_with_neg)\n",
    "print(\"\\nUsing where to replace negative values with 0:\", replaced_arr)\n"
   ]
  },
  {
   "cell_type": "code",
   "execution_count": null,
   "metadata": {},
   "outputs": [],
   "source": [
    "# `np.where()`: return only indices\n",
    "arr_with_neg = np.array([-1, 5, -10, 8, -3])\n",
    "replaced_arr = np.where(arr_with_neg < 0)\n",
    "print(\"\\nUsing where to replace negative values with 0:\", replaced_arr)\n"
   ]
  },
  {
   "cell_type": "code",
   "execution_count": null,
   "metadata": {},
   "outputs": [],
   "source": [
    "# `np.where()`: in matrix\n",
    "arr_with_neg = np.array([[-1, 5, -10, 8], [-1, -1, 7, -3], [-1, -5, -10, -3], [1, 51, 0, -8]])\n",
    "replaced_arr = np.where(arr_with_neg < 0)\n",
    "print(\"\\nUsing where to replace negative values with 0:\", replaced_arr)\n"
   ]
  },
  {
   "cell_type": "code",
   "execution_count": null,
   "metadata": {},
   "outputs": [],
   "source": [
    "# How to use replaced_arr to get the values?"
   ]
  },
  {
   "cell_type": "markdown",
   "metadata": {},
   "source": [
    "---\n",
    "## 7. Broadcasting\n",
    "Broadcasting describes how NumPy treats arrays with different shapes during arithmetic operations. It's a powerful mechanism that allows for concise code without making explicit copies of data."
   ]
  },
  {
   "cell_type": "markdown",
   "metadata": {},
   "source": [
    "**The Broadcasting Rule:**\n",
    "In order to broadcast, the size of each trailing dimension (i.e., starting from the end) in the arrays must be equal or one of them must be 1. NumPy will then stretch the dimension with size 1 to match the other."
   ]
  },
  {
   "cell_type": "code",
   "execution_count": null,
   "metadata": {},
   "outputs": [],
   "source": [
    "# Example 1: Array and a Scalar\n",
    "# The scalar is broadcast to the shape of the array.\n",
    "arr = np.arange(5)\n",
    "result = arr + 100\n",
    "print(\"Array 'arr' (shape 5,):\", arr)\n",
    "print(\"Scalar 100 is broadcast to shape (5,) and added element-wise.\")\n",
    "print(\"Result:\", result)"
   ]
  },
  {
   "cell_type": "code",
   "execution_count": null,
   "metadata": {},
   "outputs": [],
   "source": [
    "# Example 2: 2D array and 1D array\n",
    "arr_2d = np.arange(12).reshape(4, 3)\n",
    "arr_1d = np.array([10, 20, 30])\n",
    "print(\"\\n2D Array (shape 4,3):\\n\", arr_2d)\n",
    "print(\"1D Array (shape 3,):\", arr_1d)\n",
    "\n",
    "# Rule Check: arr_2d.shape -> (4, 3) | arr_1d.shape -> (3,)\n",
    "# The trailing dimensions match (3 and 3). Broadcasting is possible.\n",
    "result = arr_2d + arr_1d\n",
    "print(\"\\nResult of broadcasting arr_1d across rows of arr_2d:\\n\", result)\n"
   ]
  },
  {
   "cell_type": "code",
   "execution_count": null,
   "metadata": {},
   "outputs": [],
   "source": [
    "# Example 3: Broadcasting a column vector\n",
    "# To broadcast down columns, we must reshape the 1D array to a column vector (shape (N,1))\n",
    "col_vec = np.array([[100],[200],[300],[400]]) # Shape (4,1)\n",
    "print(\"\\nColumn vector (shape 4,1):\\n\", col_vec)\n",
    "\n",
    "# Rule Check: arr_2d.shape -> (4, 3) | col_vec.shape -> (4, 1)\n",
    "# Trailing dimensions: 3 vs 1 (one is 1, ok). Next dimensions: 4 vs 4 (equal, ok).\n",
    "result_col = arr_2d + col_vec\n",
    "print(\"\\nResult of broadcasting column vector across columns of arr_2d:\\n\", result_col)"
   ]
  },
  {
   "cell_type": "code",
   "execution_count": null,
   "metadata": {},
   "outputs": [],
   "source": [
    "mat = np.arange(24).reshape(2, 3, 4)\n",
    "mat"
   ]
  },
  {
   "cell_type": "code",
   "execution_count": null,
   "metadata": {},
   "outputs": [],
   "source": [
    "print(mat.shape)"
   ]
  },
  {
   "cell_type": "code",
   "execution_count": null,
   "metadata": {},
   "outputs": [],
   "source": [
    "# np.array([1, 2, 3, 4])\n",
    "# np.array([1, 2])\n",
    "# np.array([[1], [2]])\n",
    "# np.array([[[1]], [[2]]])"
   ]
  },
  {
   "cell_type": "markdown",
   "metadata": {},
   "source": [
    "---\n",
    "## 8. Random Number Generation\n",
    "Random numbers are critical for simulations, sampling, and initializing machine learning models."
   ]
  },
  {
   "cell_type": "markdown",
   "metadata": {},
   "source": [
    "### 8.1. Basic Random Functions"
   ]
  },
  {
   "cell_type": "code",
   "execution_count": null,
   "metadata": {},
   "outputs": [],
   "source": [
    "# `np.random.rand()`: Random values in a given shape from a uniform distribution over [0, 1).\n",
    "print(\"Uniform distribution [0,1) in a 2x3 array:\\n\", np.random.rand(2, 3))\n",
    "\n",
    "# `np.random.randn()`: Random values from a standard normal distribution (mean=0, variance=1).\n",
    "print(\"\\nStandard Normal distribution in a 2x3 array:\\n\", np.random.randn(2, 3))\n",
    "\n",
    "# `np.random.randint()`: Random integers from low (inclusive) to high (exclusive).\n",
    "print(\"\\nRandom integers between 10 and 20, size=5:\", np.random.randint(10, 20, size=5))\n"
   ]
  },
  {
   "cell_type": "markdown",
   "metadata": {},
   "source": [
    "### 8.2. Seeding for Reproducibility\n",
    "In any scientific or ML application, it's crucial that your results are reproducible. Setting a 'seed' ensures that the sequence of 'random' numbers generated is always the same."
   ]
  },
  {
   "cell_type": "code",
   "execution_count": null,
   "metadata": {},
   "outputs": [],
   "source": [
    "# Set a seed for the random number generator\n",
    "np.random.seed(42)\n",
    "print(\"With seed=42, first call:\", np.random.rand(4))\n",
    "print(\"With seed=42, second call:\", np.random.rand(4))\n",
    "\n",
    "# Resetting the seed will reproduce the exact same sequence\n",
    "np.random.seed(42)\n",
    "print(\"\\nAfter resetting seed to 42, first call is identical:\", np.random.rand(4))"
   ]
  },
  {
   "cell_type": "markdown",
   "metadata": {},
   "source": [
    "### 8.3. Shuffling and Sampling"
   ]
  },
  {
   "cell_type": "code",
   "execution_count": null,
   "metadata": {},
   "outputs": [],
   "source": [
    "arr = np.arange(10)\n",
    "print(\"Original array:\", arr)\n",
    "\n",
    "# `np.random.shuffle()`: Modifies a sequence in-place by shuffling its contents.\n",
    "np.random.shuffle(arr)\n",
    "print(\"Shuffled array (in-place):\", arr)\n",
    "\n",
    "# `np.random.permutation()`: Randomly permutes a sequence, or returns a permuted range. Returns a copy.\n",
    "arr = np.arange(10)\n",
    "permuted_arr = np.random.permutation(arr)\n",
    "print(\"\\nPermuted array (copy):\", permuted_arr)\n",
    "print(\"Original is unchanged:\", arr)\n",
    "\n",
    "# `np.random.choice()`: Generates a random sample from a given 1-D array\n",
    "choices = np.random.choice(arr, size=5, replace=False) # Sample 5 unique elements\n",
    "print(\"\\nRandom choice of 5 unique elements:\", choices)"
   ]
  },
  {
   "cell_type": "markdown",
   "metadata": {},
   "source": [
    "---\n",
    "## 9. Introduction to Linear Algebra (`np.linalg`)\n",
    "NumPy's `linalg` module provides essential linear algebra functionality."
   ]
  },
  {
   "cell_type": "code",
   "execution_count": null,
   "metadata": {},
   "outputs": [],
   "source": [
    "A = np.array([[1, 2,], [3, 4]])\n",
    "B = np.array([[5, 6], [7, 8]])\n",
    "v = np.array([9, 10])\n",
    "print(\"Matrix A:\\n\", A)\n",
    "print(\"\\nMatrix B:\\n\", B)\n",
    "print(\"\\nVector v:\", v)"
   ]
  },
  {
   "cell_type": "code",
   "execution_count": null,
   "metadata": {},
   "outputs": [],
   "source": [
    "# Dot Product of two vectors\n",
    "print(\"\\nDot product of A[0] and v:\", np.dot(A[0], v))"
   ]
  },
  {
   "cell_type": "code",
   "execution_count": null,
   "metadata": {},
   "outputs": [],
   "source": [
    "# Matrix-Vector dot product\n",
    "print(\"\\nMatrix-vector product (A dot v):\\n\", A.dot(v))"
   ]
  },
  {
   "cell_type": "code",
   "execution_count": null,
   "metadata": {},
   "outputs": [],
   "source": [
    "# why?\n",
    "\n",
    "v.dot(A)"
   ]
  },
  {
   "cell_type": "code",
   "execution_count": null,
   "metadata": {},
   "outputs": [],
   "source": [
    "# Matrix-Matrix dot product\n",
    "print(\"\\nMatrix-vector product (A dot v):\\n\", A.dot(B))"
   ]
  },
  {
   "cell_type": "code",
   "execution_count": null,
   "metadata": {},
   "outputs": [],
   "source": [
    "# Matrix-Matrix Multiplication\n",
    "# The `@` operator is the recommended way to do matrix multiplication since Python 3.5\n",
    "print(\"\\nMatrix-matrix product (A @ B):\\n\", A @ B)"
   ]
  },
  {
   "cell_type": "code",
   "execution_count": null,
   "metadata": {},
   "outputs": [],
   "source": [
    "# Home exercise: Convicne yourself that A @ B != B @ A"
   ]
  },
  {
   "cell_type": "code",
   "execution_count": null,
   "metadata": {},
   "outputs": [],
   "source": [
    "# Diagonal of a matrix\n",
    "print(\"\\nDiagonal of A:\", np.diag(A))"
   ]
  },
  {
   "cell_type": "markdown",
   "metadata": {},
   "source": [
    "---\n",
    "## 10. Saving and Loading Arrays\n",
    "NumPy makes it easy to save your arrays to disk for later use. The standard `.npy` format is a fast and efficient way to store a single array."
   ]
  },
  {
   "cell_type": "code",
   "execution_count": null,
   "metadata": {},
   "outputs": [],
   "source": [
    "arr_to_save = np.arange(20).reshape(5, 4)\n",
    "print(\"Array to save:\\n\", arr_to_save)"
   ]
  },
  {
   "cell_type": "code",
   "execution_count": null,
   "metadata": {},
   "outputs": [],
   "source": [
    "# Method 1: `np.save` and `np.load` (Recommended)\n",
    "# Saves the array in a binary file in NumPy .npy format.\n",
    "np.save('my_saved_array.npy', arr_to_save)\n"
   ]
  },
  {
   "cell_type": "code",
   "execution_count": null,
   "metadata": {},
   "outputs": [],
   "source": [
    "# Now, load that array from the file\n",
    "loaded_arr = np.load('my_saved_array.npy')\n",
    "print(\"\\nLoaded with np.load:\\n\", loaded_arr)\n"
   ]
  },
  {
   "cell_type": "code",
   "execution_count": null,
   "metadata": {},
   "outputs": [],
   "source": [
    "\n",
    "\n",
    "# Method 2: `a.dump()` and `np.load()`\n",
    "# a.dump() pickles the object to a file. It can be read with np.load()\n",
    "arr_to_save.dump('my_dump.pkl')\n",
    "loaded_dump = np.load('my_dump.pkl', allow_pickle=True)\n",
    "print(\"\\nLoaded from dump file:\\n\", loaded_dump)"
   ]
  },
  {
   "cell_type": "markdown",
   "metadata": {},
   "source": [
    "---\n",
    "# Conclusion\n",
    "\n",
    "This concludes our deep dive into NumPy. You have learned about creating arrays, inspecting their attributes, performing a vast array of mathematical and logical operations, manipulating their shape, and using advanced features like broadcasting, random number generation, and linear algebra. These skills are not just foundational; they are a prerequisite for virtually all advanced data analysis and machine learning in Python.\n",
    "\n",
    "**Next up: Data Analysis with Pandas!** Pandas uses NumPy arrays as its backbone and provides the `DataFrame` object, which will be our primary tool for exploring and cleaning tabular data."
   ]
  }
 ],
 "metadata": {
  "kernelspec": {
   "display_name": "evgenie_python_env",
   "language": "python",
   "name": "python3"
  },
  "language_info": {
   "codemirror_mode": {
    "name": "ipython",
    "version": 3
   },
   "file_extension": ".py",
   "mimetype": "text/x-python",
   "name": "python",
   "nbconvert_exporter": "python",
   "pygments_lexer": "ipython3",
   "version": "3.13.4"
  }
 },
 "nbformat": 4,
 "nbformat_minor": 2
}
