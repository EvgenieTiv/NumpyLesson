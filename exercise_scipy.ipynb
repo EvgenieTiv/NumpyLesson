{
 "cells": [
  {
   "cell_type": "code",
   "execution_count": 194,
   "id": "de1f7c36",
   "metadata": {},
   "outputs": [],
   "source": [
    "# The data consists of hourly wage information for workers in Israel. \n",
    "# It was collected by categorizing income into groups of 1 NIS per hour, where each column represents a specific wage range.\n",
    "# Respondents provided their monthly income, the number of hours worked per week, and the number of weeks worked in a month.\n",
    "# The hourly wage was then calculated by dividing the monthly income by the reported total working hours. \n",
    "# The minimum hourly wage is 25 NIS. \n",
    "# Based on these data the income of 35% of the population (more than a third) is lower than the minimum wage.\n",
    "# Explore the data.\n",
    "# part of your work is to ask the instructor for relevant and imporatnt questions."
   ]
  },
  {
   "cell_type": "markdown",
   "id": "ce20c162",
   "metadata": {},
   "source": [
    "Check if the theory \"Based on these data the income of 35% of the population (more than a third) is lower than the minimum wage\" is correct"
   ]
  },
  {
   "cell_type": "code",
   "execution_count": 4,
   "id": "6d25d04f",
   "metadata": {},
   "outputs": [],
   "source": [
    "import numpy as np\n",
    "import math\n",
    "from matplotlib import pyplot as plt\n",
    "\n",
    "np.random.seed(42)\n",
    "N = 8_000_000\n",
    "bins = np.arange(0, 151)\n",
    "\n",
    "# build baseline PDFs\n",
    "x = np.arange(0, 151)\n",
    "\n",
    "# 1. main peak: Reset to have its mode between 20-30.\n",
    "k, theta, shift = 7, 2, 10\n",
    "main_pdf = np.zeros_like(x, dtype=float)\n",
    "mask = x >= shift\n",
    "xs = x[mask] - shift\n",
    "main_pdf[mask] = (xs ** (k - 1) * np.exp(-xs / theta)) / (theta ** k * math.gamma(k))\n",
    "\n",
    "# 2. secondary peak: The sharp peak at 7.5\n",
    "mu_sec, sigma_sec = 5.5, 1.2\n",
    "sec_peak_pdf = np.exp(-(x - mu_sec) ** 2 / (2 * sigma_sec ** 2)) / (sigma_sec * np.sqrt(2 * np.pi))\n",
    "\n",
    "# 3. low bump: The component for the 10-20 range\n",
    "mu_bump, sigma_bump = 25, 2.5\n",
    "low_bump_pdf = np.exp(-(x - mu_bump) ** 2 / (2 * sigma_bump ** 2)) / (sigma_bump * np.sqrt(2 * np.pi))\n",
    "\n",
    "# 4. mid-range area: A NEW broad distribution to add area between 30 and 80.\n",
    "mu_mid, sigma_mid = 40, 20\n",
    "mid_range_pdf = np.exp(-(x - mu_mid) ** 2 / (2 * sigma_mid ** 2)) / (sigma_mid * np.sqrt(2 * np.pi))\n",
    "\n",
    "# 5. tail peak: The wide gaussian for the tail\n",
    "mu_tail, sigma_tail = 60, 30\n",
    "tail_pdf = np.exp(-(x - mu_tail) ** 2 / (2 * sigma_tail ** 2)) / (sigma_tail * np.sqrt(2 * np.pi))\n",
    "\n",
    "\n",
    "# mix the FIVE components with adjusted weights and add multiplicative noise\n",
    "baseline = (0.4 * main_pdf +\n",
    "            0.05 * sec_peak_pdf +\n",
    "            0.025 * low_bump_pdf +\n",
    "            0.300 * mid_range_pdf +\n",
    "            0.3 * tail_pdf)\n",
    "baseline *= np.exp(np.random.normal(0, 0.30, size=baseline.shape))\n",
    "baseline += 1e-12\n",
    "baseline /= baseline.sum()\n",
    "\n",
    "# sample counts then build integer dataset\n",
    "counts = np.random.multinomial(N, baseline)\n",
    "data = np.repeat(x, counts)\n",
    "\n",
    "# add within-bin jitter, clip, cast to int\n",
    "data = np.clip(np.rint(data + np.random.uniform(-0.5, 0.5, size=data.shape)), 0, 150).astype(int)\n",
    "\n",
    "# histogram (one bin per integer)\n",
    "hist, _ = np.histogram(data, bins=bins)\n",
    "density = hist / N"
   ]
  },
  {
   "cell_type": "code",
   "execution_count": null,
   "id": "4afb04dc",
   "metadata": {},
   "outputs": [
    {
     "name": "stdout",
     "output_type": "stream",
     "text": [
      "1.0000000000000002\n"
     ]
    }
   ],
   "source": []
  },
  {
   "cell_type": "code",
   "execution_count": 6,
   "id": "5ca7955b",
   "metadata": {},
   "outputs": [
    {
     "data": {
      "image/png": "[encoded data removed]",
      "text/plain": [
       "<Figure size 2000x600 with 1 Axes>"
      ]
     },
     "metadata": {},
     "output_type": "display_data"
    }
   ],
   "source": [
    "plt.figure(figsize=(20, 6))\n",
    "plt.bar(bins[:-1], density, width=1, align='edge')\n",
    "plt.xlim(0, 150)\n",
    "plt.xlabel('Value')\n",
    "plt.ylabel('Density')\n",
    "plt.xticks([0, 10, 20, 30, 40, 50, 60, 70, 80, 90, 100, 110, 120, 130, 140, 150, 160])\n",
    "plt.show()\n"
   ]
  },
  {
   "cell_type": "code",
   "execution_count": null,
   "id": "21c1e1fd",
   "metadata": {},
   "outputs": [],
   "source": [
    "len(data[np.where((data<25))[0]])/len(data)"
   ]
  },
  {
   "cell_type": "code",
   "execution_count": null,
   "id": "6cfb2150",
   "metadata": {},
   "outputs": [],
   "source": [
    "import numpy as np\n",
    "import matplotlib.pyplot as plt\n",
    "\n",
    "# Parameters\n",
    "mean = 4.5\n",
    "std_dev = 1.5\n",
    "num_samples = 1000\n",
    "\n",
    "\n",
    "# Generate the data\n",
    "data = np.random.normal(loc=mean, scale=std_dev, size=num_samples)\n",
    "data = data[data > 0]\n",
    "\n",
    "# Plot the distribution\n",
    "plt.figure(figsize=(8, 6))\n",
    "plt.hist(data, bins=30, edgecolor='black', alpha=0.7)\n",
    "plt.title('Normal Distribution with Mean = 4.5 and Std Dev = 3')\n",
    "plt.xlabel('Value')\n",
    "plt.ylabel('Frequency')\n",
    "plt.show()\n"
   ]
  },
  {
   "cell_type": "code",
   "execution_count": null,
   "id": "1a5bf1a2",
   "metadata": {},
   "outputs": [],
   "source": []
  },
  {
   "cell_type": "code",
   "execution_count": null,
   "id": "76f65c91",
   "metadata": {},
   "outputs": [],
   "source": []
  }
 ],
 "metadata": {
  "kernelspec": {
   "display_name": "evgenie_python_env",
   "language": "python",
   "name": "python3"
  },
  "language_info": {
   "codemirror_mode": {
    "name": "ipython",
    "version": 3
   },
   "file_extension": ".py",
   "mimetype": "text/x-python",
   "name": "python",
   "nbconvert_exporter": "python",
   "pygments_lexer": "ipython3",
   "version": "3.13.4"
  }
 },
 "nbformat": 4,
 "nbformat_minor": 5
}
